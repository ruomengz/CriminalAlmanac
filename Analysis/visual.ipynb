{
 "cells": [
  {
   "cell_type": "markdown",
   "metadata": {},
   "source": [
    "## Final Project\n",
    "### Visual data\n",
    "\n",
    "Scripts of analysis data. Used SparkSQL."
   ]
  },
  {
   "cell_type": "code",
   "execution_count": 1,
   "metadata": {
    "collapsed": false
   },
   "outputs": [],
   "source": [
    "from pyspark.sql import SQLContext\n",
    "from pyspark.sql.types import *\n",
    "import csv\n",
    "\n",
    "from datetime import *\n",
    "from dateutil.parser import parse\n",
    "\n",
    "sqlContext = SQLContext(sc)\n",
    "def ParseDate(t):\n",
    "    try:\n",
    "        dt = parse(t, fuzzy=True).date()\n",
    "    except ValueError as e:\n",
    "        dt = date.today()\n",
    "    return dt"
   ]
  },
  {
   "cell_type": "code",
   "execution_count": 4,
   "metadata": {
    "collapsed": false
   },
   "outputs": [],
   "source": [
    "# read the file from loacal\n",
    "crimeFile = sc.textFile(\"file:///home/ubuntu/crime/raw_data/row06-15.csv\")\n",
    "\n",
    "# get the headler from csv\n",
    "header = crimeFile.first().split(',')\n",
    "\n",
    "# choose the fileds that will used in the future\n",
    "fields = [StructField(header[i], StringType(), True) for i in [1, 7, 14]]\n",
    "\n",
    "# change the type of some fileds\n",
    "fields[0].dataType = DateType()\n",
    "fields[2].dataType = IntegerType()\n",
    "\n",
    "# create the schema from the fields\n",
    "schema = StructType(fields)\n",
    "\n",
    "# Isolate the header and drop it off the actual data\n",
    "crimeHeader = crimeFile.filter(lambda l: \"CMPLNT_NUM\" in l)\n",
    "crimeNoHeader = crimeFile.subtract(crimeHeader)\n",
    "\n",
    "# using Spark's rdd.toDF() method, build the dataframe directly from crimeNoHeader RDD\n",
    "crime_df = crimeNoHeader.mapPartitions(lambda x: csv.reader(x, delimiter=\",\")).map(lambda row:(ParseDate(row[1]), row[7], int('0'+row[14]))).filter(lambda k: k[0].year>2015 and k[2]>0).toDF(schema)        \n"
   ]
  },
  {
   "cell_type": "code",
   "execution_count": 6,
   "metadata": {
    "collapsed": false
   },
   "outputs": [
    {
     "name": "stdout",
     "output_type": "stream",
     "text": [
      "root\n",
      " |-- CMPLNT_FR_DT: date (nullable = true)\n",
      " |-- OFNS_DESC: string (nullable = true)\n",
      " |-- ADDR_PCT_CD: integer (nullable = true)\n",
      "\n"
     ]
    }
   ],
   "source": [
    "crime_df.printSchema()"
   ]
  },
  {
   "cell_type": "code",
   "execution_count": 7,
   "metadata": {
    "collapsed": false
   },
   "outputs": [
    {
     "name": "stdout",
     "output_type": "stream",
     "text": [
      "+-----------+------------------+\n",
      "|ADDR_PCT_CD|       crime_count|\n",
      "+-----------+------------------+\n",
      "|         75|40.693430656934304|\n",
      "|         40|33.496350364963504|\n",
      "|         43|32.003649635036496|\n",
      "|         44|31.266423357664234|\n",
      "|         14| 27.94160583941606|\n",
      "|         47|27.686131386861312|\n",
      "|         67|27.412408759124087|\n",
      "|         52|26.062043795620436|\n",
      "|         73|25.598540145985403|\n",
      "|         46| 25.28102189781022|\n",
      "|        114|24.080291970802918|\n",
      "|        113|22.025547445255473|\n",
      "|         42| 21.98905109489051|\n",
      "|         18| 21.90875912408759|\n",
      "|        120|              21.0|\n",
      "|        109|20.806569343065693|\n",
      "|         48| 20.76277372262774|\n",
      "|        115|20.554744525547445|\n",
      "|        103|20.543795620437955|\n",
      "|         41|20.284671532846716|\n",
      "+-----------+------------------+\n",
      "only showing top 20 rows\n",
      "\n"
     ]
    }
   ],
   "source": [
    "crime_df.registerTempTable(\"crime\")\n",
    "sqlContext.sql('select ADDR_PCT_CD, count(CMPLNT_FR_DT)/count(distinct CMPLNT_FR_DT) as crime_count from crime where YEAR(CMPLNT_FR_DT)=2016 group by ADDR_PCT_CD order by crime_count desc ').show()    "
   ]
  },
  {
   "cell_type": "code",
   "execution_count": 12,
   "metadata": {
    "collapsed": false
   },
   "outputs": [
    {
     "name": "stdout",
     "output_type": "stream",
     "text": [
      "+-------------------+-----------+\n",
      "|month(CMPLNT_FR_DT)|crime_count|\n",
      "+-------------------+-----------+\n",
      "|                  1|    37679.0|\n",
      "|                  2|    34430.0|\n",
      "|                  3|    39393.0|\n",
      "|                  4|    39230.0|\n",
      "|                  5|    41463.0|\n",
      "|                  6|    41158.0|\n",
      "|                  7|    40901.0|\n",
      "|                  8|    41405.0|\n",
      "|                  9|    36393.0|\n",
      "+-------------------+-----------+\n",
      "\n"
     ]
    }
   ],
   "source": [
    "sqlContext.sql('select MONTH(CMPLNT_FR_DT), count(CMPLNT_FR_DT)/count(distinct YEAR(CMPLNT_FR_DT)) as crime_count from crime where YEAR(CMPLNT_FR_DT)=2016 group by MONTH(CMPLNT_FR_DT) order by MONTH(CMPLNT_FR_DT) ').show()    "
   ]
  },
  {
   "cell_type": "code",
   "execution_count": 16,
   "metadata": {
    "collapsed": true
   },
   "outputs": [],
   "source": [
    "# Process the temperature\n",
    "# Load the historical temperature for the city and filter it for the years 2005 to 2015\n",
    "fields = [StructField('DATE', DateType(), True), StructField('DAYOFWEEK', IntegerType(), True), StructField('TEMP', FloatType(), True)]\n",
    "schema = StructType(fields)\n",
    "temperature_df = sc.textFile('file:///home/mona/Documents/BigData/crime/raw_data/NYNEWYOR.txt').map(lambda line: [float(i) for i in line.split()]).filter(lambda row: row[2]>2015 ).map(lambda row: (date(int(row[2]), int(row[0]), int(row[1])), row[3])).map(lambda row: (row[0], row[0].weekday(), row[1])).toDF(schema)\n"
   ]
  },
  {
   "cell_type": "code",
   "execution_count": 17,
   "metadata": {
    "collapsed": false
   },
   "outputs": [
    {
     "name": "stdout",
     "output_type": "stream",
     "text": [
      "root\n",
      " |-- DATE: date (nullable = true)\n",
      " |-- DAYOFWEEK: integer (nullable = true)\n",
      " |-- TEMP: float (nullable = true)\n",
      "\n"
     ]
    }
   ],
   "source": [
    "temperature_df.printSchema()"
   ]
  },
  {
   "cell_type": "code",
   "execution_count": 18,
   "metadata": {
    "collapsed": false
   },
   "outputs": [
    {
     "name": "stdout",
     "output_type": "stream",
     "text": [
      "root\n",
      " |-- CMPLNT_FR_DT: date (nullable = true)\n",
      " |-- OFNS_DESC: string (nullable = true)\n",
      " |-- ADDR_PCT_CD: integer (nullable = true)\n",
      " |-- DAYOFWEEK: integer (nullable = true)\n",
      " |-- TEMP: float (nullable = true)\n",
      "\n"
     ]
    }
   ],
   "source": [
    "joined_df = crime_df.join(temperature_df, crime_df.CMPLNT_FR_DT == temperature_df.DATE, 'inner').drop(temperature_df.DATE)\n",
    "joined_df.printSchema()"
   ]
  },
  {
   "cell_type": "code",
   "execution_count": 19,
   "metadata": {
    "collapsed": false
   },
   "outputs": [],
   "source": [
    "joined_df.registerTempTable(\"crime\")"
   ]
  },
  {
   "cell_type": "code",
   "execution_count": 24,
   "metadata": {
    "collapsed": false
   },
   "outputs": [
    {
     "name": "stdout",
     "output_type": "stream",
     "text": [
      "+---------+---------+\n",
      "|max(TEMP)|min(TEMP)|\n",
      "+---------+---------+\n",
      "|     90.7|      8.3|\n",
      "+---------+---------+\n",
      "\n",
      "temperture (10,20]\n",
      "+--------------------------------------------------------------------------------------------------+\n",
      "|(CAST(count(CMPLNT_FR_DT) AS DOUBLE) / CAST(count(DISTINCT CAST(CMPLNT_FR_DT AS DATE)) AS DOUBLE))|\n",
      "+--------------------------------------------------------------------------------------------------+\n",
      "|                                                                                            1013.0|\n",
      "+--------------------------------------------------------------------------------------------------+\n",
      "\n",
      "temperture (20,30]\n",
      "+--------------------------------------------------------------------------------------------------+\n",
      "|(CAST(count(CMPLNT_FR_DT) AS DOUBLE) / CAST(count(DISTINCT CAST(CMPLNT_FR_DT AS DATE)) AS DOUBLE))|\n",
      "+--------------------------------------------------------------------------------------------------+\n",
      "|                                                                                            1082.3|\n",
      "+--------------------------------------------------------------------------------------------------+\n",
      "\n",
      "temperture (30,40]\n",
      "+--------------------------------------------------------------------------------------------------+\n",
      "|(CAST(count(CMPLNT_FR_DT) AS DOUBLE) / CAST(count(DISTINCT CAST(CMPLNT_FR_DT AS DATE)) AS DOUBLE))|\n",
      "+--------------------------------------------------------------------------------------------------+\n",
      "|                                                                                1206.2432432432433|\n",
      "+--------------------------------------------------------------------------------------------------+\n",
      "\n",
      "temperture (40,50]\n",
      "+--------------------------------------------------------------------------------------------------+\n",
      "|(CAST(count(CMPLNT_FR_DT) AS DOUBLE) / CAST(count(DISTINCT CAST(CMPLNT_FR_DT AS DATE)) AS DOUBLE))|\n",
      "+--------------------------------------------------------------------------------------------------+\n",
      "|                                                                                        1279.09375|\n",
      "+--------------------------------------------------------------------------------------------------+\n",
      "\n",
      "temperture (50,60]\n",
      "+--------------------------------------------------------------------------------------------------+\n",
      "|(CAST(count(CMPLNT_FR_DT) AS DOUBLE) / CAST(count(DISTINCT CAST(CMPLNT_FR_DT AS DATE)) AS DOUBLE))|\n",
      "+--------------------------------------------------------------------------------------------------+\n",
      "|                                                                                1299.2666666666667|\n",
      "+--------------------------------------------------------------------------------------------------+\n",
      "\n",
      "temperture (60,70]\n",
      "+--------------------------------------------------------------------------------------------------+\n",
      "|(CAST(count(CMPLNT_FR_DT) AS DOUBLE) / CAST(count(DISTINCT CAST(CMPLNT_FR_DT AS DATE)) AS DOUBLE))|\n",
      "+--------------------------------------------------------------------------------------------------+\n",
      "|                                                                                1317.3333333333333|\n",
      "+--------------------------------------------------------------------------------------------------+\n",
      "\n",
      "temperture (70,80]\n",
      "+--------------------------------------------------------------------------------------------------+\n",
      "|(CAST(count(CMPLNT_FR_DT) AS DOUBLE) / CAST(count(DISTINCT CAST(CMPLNT_FR_DT AS DATE)) AS DOUBLE))|\n",
      "+--------------------------------------------------------------------------------------------------+\n",
      "|                                                                                1317.4246575342465|\n",
      "+--------------------------------------------------------------------------------------------------+\n",
      "\n"
     ]
    }
   ],
   "source": [
    "# sqlContext.sql(\"select MONTH(CMPLNT_FR_DT), count(CMPLNT_FR_DT)/count(distinct YEAR(CMPLNT_FR_DT)) as crime_count from crime where YEAR(CMPLNT_FR_DT)=2016 group by MONTH(CMPLNT_FR_DT) order by MONTH(CMPLNT_FR_DT) \").show()    \n",
    "# calculate temperature vs crimes\n",
    "sqlContext.sql(\"select max(TEMP), min(TEMP) from crime\").show()\n",
    "print \"temperture (10,20]\"\n",
    "sqlContext.sql(\"select count(CMPLNT_FR_DT)/count(distinct DATE(CMPLNT_FR_DT)) from crime where TEMP>10 and TEMP<=20\").show()\n",
    "print \"temperture (20,30]\"\n",
    "sqlContext.sql(\"select count(CMPLNT_FR_DT)/count(distinct DATE(CMPLNT_FR_DT)) from crime where TEMP>20 and TEMP<=30\").show()\n",
    "print \"temperture (30,40]\"\n",
    "sqlContext.sql(\"select count(CMPLNT_FR_DT)/count(distinct DATE(CMPLNT_FR_DT)) from crime where TEMP>30 and TEMP<=40\").show()\n",
    "print \"temperture (40,50]\"\n",
    "sqlContext.sql(\"select count(CMPLNT_FR_DT)/count(distinct DATE(CMPLNT_FR_DT)) from crime where TEMP>40 and TEMP<=50\").show()\n",
    "print \"temperture (50,60]\"\n",
    "sqlContext.sql(\"select count(CMPLNT_FR_DT)/count(distinct DATE(CMPLNT_FR_DT)) from crime where TEMP>50 and TEMP<=60\").show()\n",
    "print \"temperture (60,70]\"\n",
    "sqlContext.sql(\"select count(CMPLNT_FR_DT)/count(distinct DATE(CMPLNT_FR_DT)) from crime where TEMP>60 and TEMP<=70\").show()\n",
    "print \"temperture (70,80]\"\n",
    "sqlContext.sql(\"select count(CMPLNT_FR_DT)/count(distinct DATE(CMPLNT_FR_DT)) from crime where TEMP>70 and TEMP<=80\").show()\n",
    "print \"temperture (80,90]\"\n",
    "sqlContext.sql(\"select count(CMPLNT_FR_DT)/count(distinct DATE(CMPLNT_FR_DT)) from crime where TEMP>80 and TEMP<=90\").show()\n"
   ]
  },
  {
   "cell_type": "code",
   "execution_count": 25,
   "metadata": {
    "collapsed": false
   },
   "outputs": [
    {
     "name": "stdout",
     "output_type": "stream",
     "text": [
      "temperture (80,90]\n",
      "+--------------------------------------------------------------------------------------------------+\n",
      "|(CAST(count(CMPLNT_FR_DT) AS DOUBLE) / CAST(count(DISTINCT CAST(CMPLNT_FR_DT AS DATE)) AS DOUBLE))|\n",
      "+--------------------------------------------------------------------------------------------------+\n",
      "|                                                                                          1333.125|\n",
      "+--------------------------------------------------------------------------------------------------+\n",
      "\n"
     ]
    }
   ],
   "source": [
    "print \"temperture (80,90]\"\n",
    "sqlContext.sql(\"select count(CMPLNT_FR_DT)/count(distinct DATE(CMPLNT_FR_DT)) from crime where TEMP>80 and TEMP<=90\").show()\n"
   ]
  },
  {
   "cell_type": "code",
   "execution_count": 10,
   "metadata": {
    "collapsed": false
   },
   "outputs": [
    {
     "name": "stdout",
     "output_type": "stream",
     "text": [
      "+------------------------------------+-----+\n",
      "|OFNS_DESC                           |NUM  |\n",
      "+------------------------------------+-----+\n",
      "|PETIT LARCENY                       |59455|\n",
      "|HARRASSMENT 2                       |48967|\n",
      "|ASSAULT 3 & RELATED OFFENSES        |39682|\n",
      "|CRIMINAL MISCHIEF & RELATED OF      |36737|\n",
      "|GRAND LARCENY                       |30563|\n",
      "|DANGEROUS DRUGS                     |17154|\n",
      "|OFF. AGNST PUB ORD SENSBLTY &       |16681|\n",
      "|FELONY ASSAULT                      |15711|\n",
      "|ROBBERY                             |11434|\n",
      "|MISCELLANEOUS PENAL LAW             |10350|\n",
      "|BURGLARY                            |9488 |\n",
      "|DANGEROUS WEAPONS                   |8034 |\n",
      "|OFFENSES AGAINST PUBLIC ADMINI      |6801 |\n",
      "|VEHICLE AND TRAFFIC LAWS            |4931 |\n",
      "|GRAND LARCENY OF MOTOR VEHICLE      |4692 |\n",
      "|INTOXICATED & IMPAIRED DRIVING      |4410 |\n",
      "|FORGERY                             |4365 |\n",
      "|SEX CRIMES                          |4105 |\n",
      "|CRIMINAL TRESPASS                   |2990 |\n",
      "|THEFT-FRAUD                         |2941 |\n",
      "|FRAUDS                              |2325 |\n",
      "|OTHER OFFENSES RELATED TO THEF      |1257 |\n",
      "|POSSESSION OF STOLEN PROPERTY       |1242 |\n",
      "|UNAUTHORIZED USE OF A VEHICLE       |1223 |\n",
      "|OFFENSES AGAINST THE PERSON         |933  |\n",
      "|OFFENSES INVOLVING FRAUD            |932  |\n",
      "|RAPE                                |859  |\n",
      "|ADMINISTRATIVE CODE                 |749  |\n",
      "|ARSON                               |582  |\n",
      "|NYS LAWS-UNCLASSIFIED FELONY        |390  |\n",
      "|THEFT OF SERVICES                   |284  |\n",
      "|MURDER & NON-NEGL. MANSLAUGHTER     |247  |\n",
      "|GAMBLING                            |223  |\n",
      "|BURGLAR'S TOOLS                     |205  |\n",
      "|FRAUDULENT ACCOSTING                |179  |\n",
      "|OTHER STATE LAWS (NON PENAL LA      |163  |\n",
      "|AGRICULTURE & MRKTS LAW-UNCLASSIFIED|106  |\n",
      "|KIDNAPPING & RELATED OFFENSES       |102  |\n",
      "|PROSTITUTION & RELATED OFFENSES     |99   |\n",
      "|OFFENSES RELATED TO CHILDREN        |76   |\n",
      "|ALCOHOLIC BEVERAGE CONTROL LAW      |75   |\n",
      "|DISORDERLY CONDUCT                  |64   |\n",
      "|OFFENSES AGAINST PUBLIC SAFETY      |48   |\n",
      "|JOSTLING                            |35   |\n",
      "|                                    |35   |\n",
      "|ENDAN WELFARE INCOMP                |24   |\n",
      "|PETIT LARCENY OF MOTOR VEHICLE      |24   |\n",
      "|CHILD ABANDONMENT/NON SUPPORT       |16   |\n",
      "|NYS LAWS-UNCLASSIFIED VIOLATION     |14   |\n",
      "|OTHER STATE LAWS                    |14   |\n",
      "+------------------------------------+-----+\n",
      "only showing top 50 rows\n",
      "\n"
     ]
    }
   ],
   "source": [
    "#sqlContext.sql(\"select count(CMPLNT_FR_DT)/count(distinct DATE(CMPLNT_FR_DT)) from crime where TEMP>80 and TEMP<=90 and OFNS_DESC='' \").show()\n",
    "sqlContext.sql(\"select OFNS_DESC, count(*) as NUM from crime group by OFNS_DESC order by NUM desc\").show(50, False)\n"
   ]
  },
  {
   "cell_type": "code",
   "execution_count": 14,
   "metadata": {
    "collapsed": false
   },
   "outputs": [
    {
     "name": "stdout",
     "output_type": "stream",
     "text": [
      "+--------------------------------------------------------------------------------------------------+\n",
      "|(CAST(count(CMPLNT_FR_DT) AS DOUBLE) / CAST(count(DISTINCT CAST(CMPLNT_FR_DT AS DATE)) AS DOUBLE))|\n",
      "+--------------------------------------------------------------------------------------------------+\n",
      "|                                                                                              32.0|\n",
      "+--------------------------------------------------------------------------------------------------+\n",
      "\n",
      "+--------------------------------------------------------------------------------------------------+\n",
      "|(CAST(count(CMPLNT_FR_DT) AS DOUBLE) / CAST(count(DISTINCT CAST(CMPLNT_FR_DT AS DATE)) AS DOUBLE))|\n",
      "+--------------------------------------------------------------------------------------------------+\n",
      "|                                                                                              37.4|\n",
      "+--------------------------------------------------------------------------------------------------+\n",
      "\n",
      "+--------------------------------------------------------------------------------------------------+\n",
      "|(CAST(count(CMPLNT_FR_DT) AS DOUBLE) / CAST(count(DISTINCT CAST(CMPLNT_FR_DT AS DATE)) AS DOUBLE))|\n",
      "+--------------------------------------------------------------------------------------------------+\n",
      "|                                                                                39.567567567567565|\n",
      "+--------------------------------------------------------------------------------------------------+\n",
      "\n",
      "+--------------------------------------------------------------------------------------------------+\n",
      "|(CAST(count(CMPLNT_FR_DT) AS DOUBLE) / CAST(count(DISTINCT CAST(CMPLNT_FR_DT AS DATE)) AS DOUBLE))|\n",
      "+--------------------------------------------------------------------------------------------------+\n",
      "|                                                                                             41.25|\n",
      "+--------------------------------------------------------------------------------------------------+\n",
      "\n",
      "+--------------------------------------------------------------------------------------------------+\n",
      "|(CAST(count(CMPLNT_FR_DT) AS DOUBLE) / CAST(count(DISTINCT CAST(CMPLNT_FR_DT AS DATE)) AS DOUBLE))|\n",
      "+--------------------------------------------------------------------------------------------------+\n",
      "|                                                                                39.266666666666666|\n",
      "+--------------------------------------------------------------------------------------------------+\n",
      "\n",
      "+--------------------------------------------------------------------------------------------------+\n",
      "|(CAST(count(CMPLNT_FR_DT) AS DOUBLE) / CAST(count(DISTINCT CAST(CMPLNT_FR_DT AS DATE)) AS DOUBLE))|\n",
      "+--------------------------------------------------------------------------------------------------+\n",
      "|                                                                                 42.39393939393939|\n",
      "+--------------------------------------------------------------------------------------------------+\n",
      "\n",
      "+--------------------------------------------------------------------------------------------------+\n",
      "|(CAST(count(CMPLNT_FR_DT) AS DOUBLE) / CAST(count(DISTINCT CAST(CMPLNT_FR_DT AS DATE)) AS DOUBLE))|\n",
      "+--------------------------------------------------------------------------------------------------+\n",
      "|                                                                                 43.43835616438356|\n",
      "+--------------------------------------------------------------------------------------------------+\n",
      "\n",
      "+--------------------------------------------------------------------------------------------------+\n",
      "|(CAST(count(CMPLNT_FR_DT) AS DOUBLE) / CAST(count(DISTINCT CAST(CMPLNT_FR_DT AS DATE)) AS DOUBLE))|\n",
      "+--------------------------------------------------------------------------------------------------+\n",
      "|                                                                                              44.9|\n",
      "+--------------------------------------------------------------------------------------------------+\n",
      "\n"
     ]
    }
   ],
   "source": [
    "# calculate temperature vs crimes\n",
    "sqlContext.sql(\"select count(CMPLNT_FR_DT)/count(distinct DATE(CMPLNT_FR_DT)) from crime where TEMP>10 and TEMP<=20 and `OFNS_DESC`='ROBBERY' \").show()\n",
    "sqlContext.sql(\"select count(CMPLNT_FR_DT)/count(distinct DATE(CMPLNT_FR_DT)) from crime where TEMP>20 and TEMP<=30 and `OFNS_DESC`='ROBBERY' \").show()\n",
    "sqlContext.sql(\"select count(CMPLNT_FR_DT)/count(distinct DATE(CMPLNT_FR_DT)) from crime where TEMP>30 and TEMP<=40 and `OFNS_DESC`='ROBBERY' \").show()\n",
    "sqlContext.sql(\"select count(CMPLNT_FR_DT)/count(distinct DATE(CMPLNT_FR_DT)) from crime where TEMP>40 and TEMP<=50 and `OFNS_DESC`='ROBBERY' \").show()\n",
    "sqlContext.sql(\"select count(CMPLNT_FR_DT)/count(distinct DATE(CMPLNT_FR_DT)) from crime where TEMP>50 and TEMP<=60 and `OFNS_DESC`='ROBBERY' \").show()\n",
    "sqlContext.sql(\"select count(CMPLNT_FR_DT)/count(distinct DATE(CMPLNT_FR_DT)) from crime where TEMP>60 and TEMP<=70 and `OFNS_DESC`='ROBBERY' \").show()\n",
    "sqlContext.sql(\"select count(CMPLNT_FR_DT)/count(distinct DATE(CMPLNT_FR_DT)) from crime where TEMP>70 and TEMP<=80 and `OFNS_DESC`='ROBBERY' \").show()\n",
    "sqlContext.sql(\"select count(CMPLNT_FR_DT)/count(distinct DATE(CMPLNT_FR_DT)) from crime where TEMP>80 and TEMP<=90 and `OFNS_DESC`='ROBBERY' \").show()"
   ]
  },
  {
   "cell_type": "markdown",
   "metadata": {},
   "source": [
    "A way to reduce query... but\n",
    "```\n",
    "SELECT \"periods\".\"start_date\", \n",
    "       \"periods\".\"end_date\", \n",
    "       SUM(CASE WHEN \"balance_transactions\".\"created\" BETWEEN \"periods\".\"start_date\" AND \"periods\".\"end_date\" THEN \"balance_transactions\".\"fee\" ELSE 0.00 END) AS period_sum\n",
    "  FROM \"balance_transactions\" \n",
    "  JOIN charges ON balance_transactions.source = charges.balance_id \n",
    "  JOIN ( SELECT '2013-12-20'::date as start_date, '2014-01-19'::date as end_date UNION ALL\n",
    "         SELECT '2013-12-21'::date as start_date, '2014-01-20'::date as end_date UNION ALL\n",
    "         SELECT '2013-12-22'::date as start_date, '2014-01-21'::date as end_date UNION ALL\n",
    "         SELECT '2013-12-23'::date as start_date, '2014-01-22'::date as end_date UNION ALL\n",
    "         SELECT '2013-12-24'::date as start_date, '2014-01-23'::date as end_date\n",
    "         ) as periods\n",
    "    ON \"balance_transactions\".\"created\" BETWEEN \"periods\".\"start_date\" AND \"periods\".\"end_date\"\n",
    " WHERE \"balance_transactions\".\"account_id\" = 6 \n",
    "   AND \"balance_transactions\".\"type\" = 'charge' \n",
    "   AND \"charges\".\"refunded\" = false \n",
    "   AND \"charges\".\"invoice\" IS NOT NULL\n",
    " GROUP BY \"periods\".\"start_date\", \"periods\".\"end_date\"\n",
    "```"
   ]
  },
  {
   "cell_type": "code",
   "execution_count": 21,
   "metadata": {
    "collapsed": false
   },
   "outputs": [
    {
     "name": "stdout",
     "output_type": "stream",
     "text": [
      "+---------+-----------------+\n",
      "|DAYOFWEEK|      crime_count|\n",
      "+---------+-----------------+\n",
      "|        1|39.02564102564103|\n",
      "|        6|45.17948717948718|\n",
      "|        3| 39.8974358974359|\n",
      "|        5|42.02564102564103|\n",
      "|        4|           42.975|\n",
      "|        2|40.84615384615385|\n",
      "|        0|42.12820512820513|\n",
      "+---------+-----------------+\n",
      "\n"
     ]
    }
   ],
   "source": [
    "# calculate daily crime of robbery of weekdays 0-Sun, 1-Mon, 6-Sat\n",
    "sqlContext.sql(\"select DAYOFWEEK, count(CMPLNT_FR_DT)/count(distinct DATE(CMPLNT_FR_DT)) as crime_count from crime where `OFNS_DESC`='ROBBERY' group by DAYOFWEEK \").show()    "
   ]
  },
  {
   "cell_type": "code",
   "execution_count": 22,
   "metadata": {
    "collapsed": false
   },
   "outputs": [
    {
     "name": "stdout",
     "output_type": "stream",
     "text": [
      "+---------+------------------+\n",
      "|DAYOFWEEK|       crime_count|\n",
      "+---------+------------------+\n",
      "|        1|1268.7179487179487|\n",
      "|        6|1194.7692307692307|\n",
      "|        3|1307.4102564102564|\n",
      "|        5|1291.6153846153845|\n",
      "|        4|          1382.125|\n",
      "|        2| 1325.948717948718|\n",
      "|        0| 1220.948717948718|\n",
      "+---------+------------------+\n",
      "\n"
     ]
    }
   ],
   "source": [
    "# calculate daily crimes of weekdays 0-Sun, 1-Mon, 6-Sat\n",
    "sqlContext.sql(\"select DAYOFWEEK, count(CMPLNT_FR_DT)/count(distinct DATE(CMPLNT_FR_DT)) as crime_count from crime group by DAYOFWEEK \").show()    "
   ]
  },
  {
   "cell_type": "code",
   "execution_count": 24,
   "metadata": {
    "collapsed": false
   },
   "outputs": [
    {
     "name": "stdout",
     "output_type": "stream",
     "text": [
      "+---------+------------------+\n",
      "|DAYOFWEEK|       crime_count|\n",
      "+---------+------------------+\n",
      "|        1|223.82051282051282|\n",
      "|        6|184.69230769230768|\n",
      "|        3|226.46153846153845|\n",
      "|        5|207.66666666666666|\n",
      "|        4|           227.625|\n",
      "|        2|228.25641025641025|\n",
      "|        0|220.12820512820514|\n",
      "+---------+------------------+\n",
      "\n"
     ]
    }
   ],
   "source": [
    "sqlContext.sql(\"select DAYOFWEEK, count(CMPLNT_FR_DT)/count(distinct DATE(CMPLNT_FR_DT)) as crime_count from crime where `OFNS_DESC`='PETIT LARCENY' group by DAYOFWEEK \").show()    "
   ]
  },
  {
   "cell_type": "code",
   "execution_count": 23,
   "metadata": {
    "collapsed": false
   },
   "outputs": [
    {
     "name": "stdout",
     "output_type": "stream",
     "text": [
      "+---------+-----------------+\n",
      "|DAYOFWEEK|      crime_count|\n",
      "+---------+-----------------+\n",
      "|        1|8.743589743589743|\n",
      "|        6|5.256410256410256|\n",
      "|        3| 9.41025641025641|\n",
      "|        5|7.868421052631579|\n",
      "|        4|             9.35|\n",
      "|        2|9.384615384615385|\n",
      "|        0|9.564102564102564|\n",
      "+---------+-----------------+\n",
      "\n"
     ]
    }
   ],
   "source": [
    "# calculate daily crime of frauds of weekdays 0-Sun, 1-Mon, 6-Sat\n",
    "sqlContext.sql(\"select DAYOFWEEK, count(CMPLNT_FR_DT)/count(distinct DATE(CMPLNT_FR_DT)) as crime_count from crime where `OFNS_DESC`='FRAUDS' group by DAYOFWEEK \").show()    "
   ]
  },
  {
   "cell_type": "code",
   "execution_count": null,
   "metadata": {
    "collapsed": true
   },
   "outputs": [],
   "source": [
    "# sqlContext.sql(\"select MONTH(CMPLNT_FR_DT), count(CMPLNT_FR_DT)/count(distinct YEAR(CMPLNT_FR_DT)) as crime_count from crime where YEAR(CMPLNT_FR_DT)=2016 group by MONTH(CMPLNT_FR_DT) order by MONTH(CMPLNT_FR_DT) \").show()    \n",
    "# calculate temperature vs crimes\n",
    "sqlContext.sql(\"select max(TEMP), min(TEMP) from crime\").show()\n",
    "print \"temperture (10,20]\"\n",
    "sqlContext.sql(\"select count(CMPLNT_FR_DT)/count(distinct DATE(CMPLNT_FR_DT)) from crime where TEMP>10 and TEMP<=20 group by WEEKDAY\").show()\n",
    "print \"temperture (20,30]\"\n",
    "sqlContext.sql(\"select count(CMPLNT_FR_DT)/count(distinct DATE(CMPLNT_FR_DT)) from crime where TEMP>20 and TEMP<=30\").show()\n",
    "print \"temperture (30,40]\"\n",
    "sqlContext.sql(\"select count(CMPLNT_FR_DT)/count(distinct DATE(CMPLNT_FR_DT)) from crime where TEMP>30 and TEMP<=40\").show()\n",
    "print \"temperture (40,50]\"\n",
    "sqlContext.sql(\"select count(CMPLNT_FR_DT)/count(distinct DATE(CMPLNT_FR_DT)) from crime where TEMP>40 and TEMP<=50\").show()\n",
    "print \"temperture (50,60]\"\n",
    "sqlContext.sql(\"select count(CMPLNT_FR_DT)/count(distinct DATE(CMPLNT_FR_DT)) from crime where TEMP>50 and TEMP<=60\").show()\n",
    "print \"temperture (60,70]\"\n",
    "sqlContext.sql(\"select count(CMPLNT_FR_DT)/count(distinct DATE(CMPLNT_FR_DT)) from crime where TEMP>60 and TEMP<=70\").show()\n",
    "print \"temperture (70,80]\"\n",
    "sqlContext.sql(\"select count(CMPLNT_FR_DT)/count(distinct DATE(CMPLNT_FR_DT)) from crime where TEMP>70 and TEMP<=80\").show()\n",
    "print \"temperture (80,90]\"\n",
    "sqlContext.sql(\"select count(CMPLNT_FR_DT)/count(distinct DATE(CMPLNT_FR_DT)) from crime where TEMP>80 and TEMP<=90\").show()\n"
   ]
  },
  {
   "cell_type": "code",
   "execution_count": 28,
   "metadata": {
    "collapsed": false
   },
   "outputs": [
    {
     "name": "stdout",
     "output_type": "stream",
     "text": [
      "+---------+--------------------------------------------------------------------------------------------------+\n",
      "|DAYOFWEEK|(CAST(count(CMPLNT_FR_DT) AS DOUBLE) / CAST(count(DISTINCT CAST(CMPLNT_FR_DT AS DATE)) AS DOUBLE))|\n",
      "+---------+--------------------------------------------------------------------------------------------------+\n",
      "|        1|                                                                                            1040.0|\n",
      "|        0|                                                                                             986.0|\n",
      "+---------+--------------------------------------------------------------------------------------------------+\n",
      "\n",
      "+---------+--------------------------------------------------------------------------------------------------+\n",
      "|DAYOFWEEK|(CAST(count(CMPLNT_FR_DT) AS DOUBLE) / CAST(count(DISTINCT CAST(CMPLNT_FR_DT AS DATE)) AS DOUBLE))|\n",
      "+---------+--------------------------------------------------------------------------------------------------+\n",
      "|        1|                                                                                            1182.0|\n",
      "|        6|                                                                                             703.0|\n",
      "|        3|                                                                                            1200.5|\n",
      "|        5|                                                                                             879.0|\n",
      "|        4|                                                                                            1297.0|\n",
      "|        2|                                                                                            1150.0|\n",
      "|        0|                                                                                            1035.0|\n",
      "+---------+--------------------------------------------------------------------------------------------------+\n",
      "\n",
      "+---------+--------------------------------------------------------------------------------------------------+\n",
      "|DAYOFWEEK|(CAST(count(CMPLNT_FR_DT) AS DOUBLE) / CAST(count(DISTINCT CAST(CMPLNT_FR_DT AS DATE)) AS DOUBLE))|\n",
      "+---------+--------------------------------------------------------------------------------------------------+\n",
      "|        1|                                                                                            1142.0|\n",
      "|        6|                                                                                            1137.4|\n",
      "|        3|                                                                                            1241.2|\n",
      "|        5|                                                                                            1246.6|\n",
      "|        4|                                                                                1296.3333333333333|\n",
      "|        2|                                                                                            1264.5|\n",
      "|        0|                                                                                1095.3333333333333|\n",
      "+---------+--------------------------------------------------------------------------------------------------+\n",
      "\n",
      "+---------+--------------------------------------------------------------------------------------------------+\n",
      "|DAYOFWEEK|(CAST(count(CMPLNT_FR_DT) AS DOUBLE) / CAST(count(DISTINCT CAST(CMPLNT_FR_DT AS DATE)) AS DOUBLE))|\n",
      "+---------+--------------------------------------------------------------------------------------------------+\n",
      "|        1|                                                                                 1265.857142857143|\n",
      "|        6|                                                                                            1117.8|\n",
      "|        3|                                                                                            1277.0|\n",
      "|        5|                                                                                1320.7142857142858|\n",
      "|        4|                                                                                            1607.0|\n",
      "|        2|                                                                                            1298.0|\n",
      "|        0|                                                                                            1162.0|\n",
      "+---------+--------------------------------------------------------------------------------------------------+\n",
      "\n",
      "+---------+--------------------------------------------------------------------------------------------------+\n",
      "|DAYOFWEEK|(CAST(count(CMPLNT_FR_DT) AS DOUBLE) / CAST(count(DISTINCT CAST(CMPLNT_FR_DT AS DATE)) AS DOUBLE))|\n",
      "+---------+--------------------------------------------------------------------------------------------------+\n",
      "|        1|                                                                                            1284.8|\n",
      "|        6|                                                                                           1210.25|\n",
      "|        3|                                                                                1314.3333333333333|\n",
      "|        5|                                                                                            1299.0|\n",
      "|        4|                                                                                            1374.4|\n",
      "|        2|                                                                                           1349.75|\n",
      "|        0|                                                                                1277.6666666666667|\n",
      "+---------+--------------------------------------------------------------------------------------------------+\n",
      "\n",
      "+---------+--------------------------------------------------------------------------------------------------+\n",
      "|DAYOFWEEK|(CAST(count(CMPLNT_FR_DT) AS DOUBLE) / CAST(count(DISTINCT CAST(CMPLNT_FR_DT AS DATE)) AS DOUBLE))|\n",
      "+---------+--------------------------------------------------------------------------------------------------+\n",
      "|        1|                                                                                            1346.0|\n",
      "|        6|                                                                                            1200.0|\n",
      "|        3|                                                                                            1311.6|\n",
      "|        5|                                                                                            1316.0|\n",
      "|        4|                                                                                1383.2222222222222|\n",
      "|        2|                                                                                            1198.0|\n",
      "|        0|                                                                                            1301.0|\n",
      "+---------+--------------------------------------------------------------------------------------------------+\n",
      "\n",
      "+---------+--------------------------------------------------------------------------------------------------+\n",
      "|DAYOFWEEK|(CAST(count(CMPLNT_FR_DT) AS DOUBLE) / CAST(count(DISTINCT CAST(CMPLNT_FR_DT AS DATE)) AS DOUBLE))|\n",
      "+---------+--------------------------------------------------------------------------------------------------+\n",
      "|        1|                                                                                1277.6153846153845|\n",
      "|        6|                                                                                            1259.5|\n",
      "|        3|                                                                                            1331.3|\n",
      "|        5|                                                                                            1331.9|\n",
      "|        4|                                                                                1390.4444444444443|\n",
      "|        2|                                                                                1376.5833333333333|\n",
      "|        0|                                                                                1256.5454545454545|\n",
      "+---------+--------------------------------------------------------------------------------------------------+\n",
      "\n",
      "+---------+--------------------------------------------------------------------------------------------------+\n",
      "|DAYOFWEEK|(CAST(count(CMPLNT_FR_DT) AS DOUBLE) / CAST(count(DISTINCT CAST(CMPLNT_FR_DT AS DATE)) AS DOUBLE))|\n",
      "+---------+--------------------------------------------------------------------------------------------------+\n",
      "|        1|                                                                                            1353.0|\n",
      "|        6|                                                                                1293.4285714285713|\n",
      "|        3|                                                                                1343.5714285714287|\n",
      "|        5|                                                                                1340.3333333333333|\n",
      "|        4|                                                                                1376.1666666666667|\n",
      "|        2|                                                                                            1354.4|\n",
      "|        0|                                                                                            1276.6|\n",
      "+---------+--------------------------------------------------------------------------------------------------+\n",
      "\n"
     ]
    }
   ],
   "source": [
    "sqlContext.sql(\"select DAYOFWEEK, count(CMPLNT_FR_DT)/count(distinct DATE(CMPLNT_FR_DT)) from crime where TEMP>10 and TEMP<=20 group by DAYOFWEEK\").show()\n",
    "sqlContext.sql(\"select DAYOFWEEK, count(CMPLNT_FR_DT)/count(distinct DATE(CMPLNT_FR_DT)) from crime where TEMP>20 and TEMP<=30 group by DAYOFWEEK\").show()\n",
    "sqlContext.sql(\"select DAYOFWEEK, count(CMPLNT_FR_DT)/count(distinct DATE(CMPLNT_FR_DT)) from crime where TEMP>30 and TEMP<=40 group by DAYOFWEEK\").show()\n",
    "sqlContext.sql(\"select DAYOFWEEK, count(CMPLNT_FR_DT)/count(distinct DATE(CMPLNT_FR_DT)) from crime where TEMP>40 and TEMP<=50 group by DAYOFWEEK\").show()\n",
    "sqlContext.sql(\"select DAYOFWEEK, count(CMPLNT_FR_DT)/count(distinct DATE(CMPLNT_FR_DT)) from crime where TEMP>50 and TEMP<=60 group by DAYOFWEEK\").show()\n",
    "sqlContext.sql(\"select DAYOFWEEK, count(CMPLNT_FR_DT)/count(distinct DATE(CMPLNT_FR_DT)) from crime where TEMP>60 and TEMP<=70 group by DAYOFWEEK\").show()\n",
    "sqlContext.sql(\"select DAYOFWEEK, count(CMPLNT_FR_DT)/count(distinct DATE(CMPLNT_FR_DT)) from crime where TEMP>70 and TEMP<=80 group by DAYOFWEEK\").show()\n",
    "sqlContext.sql(\"select DAYOFWEEK, count(CMPLNT_FR_DT)/count(distinct DATE(CMPLNT_FR_DT)) from crime where TEMP>80 and TEMP<=90 group by DAYOFWEEK\").show()\n"
   ]
  },
  {
   "cell_type": "code",
   "execution_count": 29,
   "metadata": {
    "collapsed": false
   },
   "outputs": [
    {
     "name": "stdout",
     "output_type": "stream",
     "text": [
      "+--------------------------------------------------------------------------------------------------+\n",
      "|(CAST(count(CMPLNT_FR_DT) AS DOUBLE) / CAST(count(DISTINCT CAST(CMPLNT_FR_DT AS DATE)) AS DOUBLE))|\n",
      "+--------------------------------------------------------------------------------------------------+\n",
      "|                                                                                               7.0|\n",
      "+--------------------------------------------------------------------------------------------------+\n",
      "\n",
      "+--------------------------------------------------------------------------------------------------+\n",
      "|(CAST(count(CMPLNT_FR_DT) AS DOUBLE) / CAST(count(DISTINCT CAST(CMPLNT_FR_DT AS DATE)) AS DOUBLE))|\n",
      "+--------------------------------------------------------------------------------------------------+\n",
      "|                                                                                               7.0|\n",
      "+--------------------------------------------------------------------------------------------------+\n",
      "\n",
      "+--------------------------------------------------------------------------------------------------+\n",
      "|(CAST(count(CMPLNT_FR_DT) AS DOUBLE) / CAST(count(DISTINCT CAST(CMPLNT_FR_DT AS DATE)) AS DOUBLE))|\n",
      "+--------------------------------------------------------------------------------------------------+\n",
      "|                                                                                 8.783783783783784|\n",
      "+--------------------------------------------------------------------------------------------------+\n",
      "\n",
      "+--------------------------------------------------------------------------------------------------+\n",
      "|(CAST(count(CMPLNT_FR_DT) AS DOUBLE) / CAST(count(DISTINCT CAST(CMPLNT_FR_DT AS DATE)) AS DOUBLE))|\n",
      "+--------------------------------------------------------------------------------------------------+\n",
      "|                                                                                          10.40625|\n",
      "+--------------------------------------------------------------------------------------------------+\n",
      "\n",
      "+--------------------------------------------------------------------------------------------------+\n",
      "|(CAST(count(CMPLNT_FR_DT) AS DOUBLE) / CAST(count(DISTINCT CAST(CMPLNT_FR_DT AS DATE)) AS DOUBLE))|\n",
      "+--------------------------------------------------------------------------------------------------+\n",
      "|                                                                                 9.133333333333333|\n",
      "+--------------------------------------------------------------------------------------------------+\n",
      "\n",
      "+--------------------------------------------------------------------------------------------------+\n",
      "|(CAST(count(CMPLNT_FR_DT) AS DOUBLE) / CAST(count(DISTINCT CAST(CMPLNT_FR_DT AS DATE)) AS DOUBLE))|\n",
      "+--------------------------------------------------------------------------------------------------+\n",
      "|                                                                                               7.5|\n",
      "+--------------------------------------------------------------------------------------------------+\n",
      "\n",
      "+--------------------------------------------------------------------------------------------------+\n",
      "|(CAST(count(CMPLNT_FR_DT) AS DOUBLE) / CAST(count(DISTINCT CAST(CMPLNT_FR_DT AS DATE)) AS DOUBLE))|\n",
      "+--------------------------------------------------------------------------------------------------+\n",
      "|                                                                                 7.794520547945205|\n",
      "+--------------------------------------------------------------------------------------------------+\n",
      "\n",
      "+--------------------------------------------------------------------------------------------------+\n",
      "|(CAST(count(CMPLNT_FR_DT) AS DOUBLE) / CAST(count(DISTINCT CAST(CMPLNT_FR_DT AS DATE)) AS DOUBLE))|\n",
      "+--------------------------------------------------------------------------------------------------+\n",
      "|                                                                                             8.825|\n",
      "+--------------------------------------------------------------------------------------------------+\n",
      "\n"
     ]
    }
   ],
   "source": [
    "# calculate temperature vs crimes\n",
    "sqlContext.sql(\"select count(CMPLNT_FR_DT)/count(distinct DATE(CMPLNT_FR_DT)) from crime where TEMP>10 and TEMP<=20 and `OFNS_DESC`='FRAUDS'  \").show()\n",
    "sqlContext.sql(\"select count(CMPLNT_FR_DT)/count(distinct DATE(CMPLNT_FR_DT)) from crime where TEMP>20 and TEMP<=30 and `OFNS_DESC`='FRAUDS' \").show()\n",
    "sqlContext.sql(\"select count(CMPLNT_FR_DT)/count(distinct DATE(CMPLNT_FR_DT)) from crime where TEMP>30 and TEMP<=40 and `OFNS_DESC`='FRAUDS' \").show()\n",
    "sqlContext.sql(\"select count(CMPLNT_FR_DT)/count(distinct DATE(CMPLNT_FR_DT)) from crime where TEMP>40 and TEMP<=50 and `OFNS_DESC`='FRAUDS' \").show()\n",
    "sqlContext.sql(\"select count(CMPLNT_FR_DT)/count(distinct DATE(CMPLNT_FR_DT)) from crime where TEMP>50 and TEMP<=60 and `OFNS_DESC`='FRAUDS' \").show()\n",
    "sqlContext.sql(\"select count(CMPLNT_FR_DT)/count(distinct DATE(CMPLNT_FR_DT)) from crime where TEMP>60 and TEMP<=70 and `OFNS_DESC`='FRAUDS' \").show()\n",
    "sqlContext.sql(\"select count(CMPLNT_FR_DT)/count(distinct DATE(CMPLNT_FR_DT)) from crime where TEMP>70 and TEMP<=80 and `OFNS_DESC`='FRAUDS' \").show()\n",
    "sqlContext.sql(\"select count(CMPLNT_FR_DT)/count(distinct DATE(CMPLNT_FR_DT)) from crime where TEMP>80 and TEMP<=90 and `OFNS_DESC`='FRAUDS' \").show()"
   ]
  },
  {
   "cell_type": "code",
   "execution_count": 30,
   "metadata": {
    "collapsed": false
   },
   "outputs": [
    {
     "name": "stdout",
     "output_type": "stream",
     "text": [
      "+---------+--------------------------------------------------------------------------------------------------+\n",
      "|DAYOFWEEK|(CAST(count(CMPLNT_FR_DT) AS DOUBLE) / CAST(count(DISTINCT CAST(CMPLNT_FR_DT AS DATE)) AS DOUBLE))|\n",
      "+---------+--------------------------------------------------------------------------------------------------+\n",
      "|        1|                                                                                11.571428571428571|\n",
      "|        6|                                                                                               6.6|\n",
      "|        3|                                                                                              12.0|\n",
      "|        5|                                                                                               9.0|\n",
      "|        4|                                                                                12.666666666666666|\n",
      "|        2|                                                                                              12.4|\n",
      "|        0|                                                                                              11.0|\n",
      "+---------+--------------------------------------------------------------------------------------------------+\n",
      "\n",
      "+---------+--------------------------------------------------------------------------------------------------+\n",
      "|DAYOFWEEK|(CAST(count(CMPLNT_FR_DT) AS DOUBLE) / CAST(count(DISTINCT CAST(CMPLNT_FR_DT AS DATE)) AS DOUBLE))|\n",
      "+---------+--------------------------------------------------------------------------------------------------+\n",
      "|        1|                                                                                              37.0|\n",
      "|        6|                                                                                              42.0|\n",
      "|        3|                                                                                              41.0|\n",
      "|        5|                                                                                              45.0|\n",
      "|        4|                                                                                              50.0|\n",
      "|        2|                                                                                              38.6|\n",
      "|        0|                                                                                              38.0|\n",
      "+---------+--------------------------------------------------------------------------------------------------+\n",
      "\n"
     ]
    }
   ],
   "source": [
    "sqlContext.sql(\"select DAYOFWEEK, count(CMPLNT_FR_DT)/count(distinct DATE(CMPLNT_FR_DT)) from crime where TEMP>40 and TEMP<=50 and `OFNS_DESC`='FRAUDS' group by DAYOFWEEK\").show()\n",
    "sqlContext.sql(\"select DAYOFWEEK, count(CMPLNT_FR_DT)/count(distinct DATE(CMPLNT_FR_DT)) from crime where TEMP>40 and TEMP<=50 and `OFNS_DESC`='ROBBERY' group by DAYOFWEEK\").show()\n"
   ]
  }
 ],
 "metadata": {
  "anaconda-cloud": {},
  "kernelspec": {
   "display_name": "Python [default]",
   "language": "python",
   "name": "python2"
  },
  "language_info": {
   "codemirror_mode": {
    "name": "ipython",
    "version": 2
   },
   "file_extension": ".py",
   "mimetype": "text/x-python",
   "name": "python",
   "nbconvert_exporter": "python",
   "pygments_lexer": "ipython2",
   "version": "2.7.12"
  }
 },
 "nbformat": 4,
 "nbformat_minor": 1
}
